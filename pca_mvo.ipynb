{
 "cells": [
  {
   "cell_type": "code",
   "execution_count": 1,
   "id": "6e9adcdc",
   "metadata": {},
   "outputs": [],
   "source": [
    "import pandas as pd\n",
    "import numpy as np\n",
    "from sklearn.decomposition import PCA\n",
    "from sklearn.preprocessing import StandardScaler\n",
    "from scipy.optimize import minimize\n",
    "import matplotlib.pyplot as plt\n",
    "\n",
    "df = pd.read_csv('data.csv')\n"
   ]
  },
  {
   "cell_type": "code",
   "execution_count": 2,
   "id": "b121dc7e",
   "metadata": {},
   "outputs": [
    {
     "data": {
      "text/plain": [
       "array(['AUDUSD', 'BTCUSD', 'C1', 'CL1', 'CO1', 'ETHUSD', 'EURUSD',\n",
       "       'GBPUSD', 'GJGB1', 'GJGB10', 'GJGB30', 'GJGB5', 'HG1', 'HSI',\n",
       "       'HXC', 'KC1', 'LA1', 'NDX', 'NG1', 'NKY', 'NZDUSD', 'RR1',\n",
       "       'SHCOMP', 'SHSZ300', 'SPX', 'UKX', 'US1', 'US10', 'US1M', 'US30',\n",
       "       'US5', 'USDCAD', 'USDCHF', 'USDCNH', 'USDDXY', 'USDIDR', 'USDINR',\n",
       "       'USDJPY', 'USDKRW', 'USDNOK', 'USDPHP', 'USDSEK', 'USDSGD',\n",
       "       'USDTHB', 'USDTWD', 'W1', 'XAGUSD', 'XAUUSD'], dtype=object)"
      ]
     },
     "execution_count": 2,
     "metadata": {},
     "output_type": "execute_result"
    }
   ],
   "source": [
    "np.unique(df['sym'])"
   ]
  },
  {
   "cell_type": "code",
   "execution_count": null,
   "id": "8cf0e9cb",
   "metadata": {},
   "outputs": [],
   "source": [
    "\n",
    "asset_name = [\n",
    "    'AUDUSD', 'EURUSD', 'GBPUSD', 'NZDUSD', 'USDCAD', 'USDCHF', 'USDJPY', 'USDNOK', \n",
    "    'USDSEK', 'XAGUSD', 'XAUUSD', 'USDSGD', 'USDDXY', 'US10', 'GJGB10'\n",
    " ]\n",
    "\n",
    "# Select only relevant columns and rows for pivoting\n",
    "df_selected = df[df['sym'].isin(asset_name)][['Date', 'sym', 'Close']]\n",
    "\n",
    "# Pivot the DataFrame: index='Date', columns='sym', values='Close'\n",
    "pivot_df = df_selected.pivot(index='Date', columns='sym', values='Close')\n",
    "\n",
    "# Forward fill missing values and drop any remaining nulls\n",
    "pivot_df_filled = pivot_df.ffill().dropna()\n",
    "# Reset index so the key column (Date) becomes a normal column\n",
    "pivot_df_final = pivot_df_filled.reset_index()\n",
    "\n",
    "pivot_df_final['GJGB10'] = np.exp(-10*pivot_df_final['GJGB10']/100)\n",
    "pivot_df_final['US10'] = np.exp(-10*pivot_df_final['US10']/100)\n",
    "\n",
    "pivot_df_final.head()"
   ]
  },
  {
   "cell_type": "code",
   "execution_count": null,
   "id": "3c095d49",
   "metadata": {},
   "outputs": [],
   "source": []
  },
  {
   "cell_type": "code",
   "execution_count": null,
   "id": "3cb944ec",
   "metadata": {},
   "outputs": [],
   "source": []
  },
  {
   "cell_type": "code",
   "execution_count": null,
   "id": "619ffa22",
   "metadata": {},
   "outputs": [],
   "source": []
  }
 ],
 "metadata": {
  "kernelspec": {
   "display_name": "venv",
   "language": "python",
   "name": "python3"
  },
  "language_info": {
   "codemirror_mode": {
    "name": "ipython",
    "version": 3
   },
   "file_extension": ".py",
   "mimetype": "text/x-python",
   "name": "python",
   "nbconvert_exporter": "python",
   "pygments_lexer": "ipython3",
   "version": "3.13.7"
  }
 },
 "nbformat": 4,
 "nbformat_minor": 5
}
